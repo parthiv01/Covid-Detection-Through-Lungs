{
  "nbformat": 4,
  "nbformat_minor": 0,
  "metadata": {
    "colab": {
      "name": "Covid Diagnosis",
      "provenance": [],
      "collapsed_sections": []
    },
    "kernelspec": {
      "name": "python3",
      "display_name": "Python 3"
    },
    "language_info": {
      "name": "python"
    }
  },
  "cells": [
    {
      "cell_type": "code",
      "metadata": {
        "colab": {
          "base_uri": "https://localhost:8080/"
        },
        "id": "qYa3GWZveO60",
        "outputId": "2822baf9-3f96-4a63-b39b-612cb242a13f"
      },
      "source": [
        "#connect to google drive\n",
        "from google.colab import drive\n",
        "drive.mount('/content/drive')"
      ],
      "execution_count": null,
      "outputs": [
        {
          "output_type": "stream",
          "text": [
            "Drive already mounted at /content/drive; to attempt to forcibly remount, call drive.mount(\"/content/drive\", force_remount=True).\n"
          ],
          "name": "stdout"
        }
      ]
    },
    {
      "cell_type": "code",
      "metadata": {
        "id": "-JX1OJoBp6Kj"
      },
      "source": [
        "regular = \"/content/drive/My Drive/Colab Notebooks/Regular.jpg\"\n",
        "covid = \"/content/drive/My Drive/Colab Notebooks/Covid.jpg\""
      ],
      "execution_count": null,
      "outputs": []
    },
    {
      "cell_type": "code",
      "metadata": {
        "id": "40hJKkvbFwT9"
      },
      "source": [
        "print(\"WELCOME TO COVID DETECTION THROUGH IMAGES\\n\\nYou have to insert an image of XRay of your lungs\")"
      ],
      "execution_count": null,
      "outputs": []
    },
    {
      "cell_type": "code",
      "metadata": {
        "id": "Eka72mSOqARn",
        "colab": {
          "base_uri": "https://localhost:8080/"
        },
        "outputId": "dc618827-1c34-442c-df9b-3f8e9d7b47ca"
      },
      "source": [
        "from PIL import Image\n",
        "import cv2\n",
        "import numpy as np\n",
        "import operator\n",
        "#put either regular or covid infected lungs in the picture\n",
        "img = Image.open(regular)#regular or covid lungs for testing\n",
        "bw_img = img.convert('L')\n",
        "bw_img\n",
        "\n",
        "r = 0 #calculates quantity of redness in the image\n",
        "g = 0 #calculates quantity of greenness in the image\n",
        "b = 0 #calculates quantity of blueness in the image\n",
        "\n",
        "#rgb value is a good measure of colour percentage in an image \n",
        "\n",
        "#here i am using rgb values to determine how much whiteness and blackness is in the image of the lungs xray\n",
        "\n",
        "#if it is more white then it means that lungs is dense which might be a sign of covid\n",
        "\n",
        "#rgb values near 300 percent means towards white and near 0 percent means black\n",
        "\n",
        "#300 percent means 300*255\n",
        "\n",
        "black = 0\n",
        "white = 0\n",
        "for x in range(bw_img.width):\n",
        "        for y in range(bw_img.height):\n",
        "            #for the given pixel at w,h, lets check its value against the threshold\n",
        "            if bw_img.getpixel((x,y))< 127: \n",
        "                #this means the colour is towards black side\n",
        "                black = black + 1\n",
        "            else:\n",
        "                #this means the colour is towards white side\n",
        "                white = white + 1\n",
        "wp = 0.0\n",
        "bp = 0.0\n",
        "wp = (100*white) / (white + black) #whiteness percentage\n",
        "bp = (100*black) / (white + black) #blackness percentage\n",
        "print(\"Note: These results are not accurate\\n\")\n",
        "print(\"White percentage: \", wp)\n",
        "print(\"Black percentage: \", bp)\n",
        "print()\n",
        "if(wp>=0 and wp<=60):\n",
        "  print(\"Low Chances Of Covid-19\")\n",
        "elif(wp>60 and wp<=80):\n",
        "  print(\"Medium Chances Of Covid-19\")\n",
        "else:\n",
        "  print(\"High Chances Of Covid-19\")"
      ],
      "execution_count": null,
      "outputs": [
        {
          "output_type": "stream",
          "text": [
            "Note: These results are not accurate\n",
            "\n",
            "White percentage:  48.6727221518096\n",
            "Black percentage:  51.3272778481904\n",
            "\n",
            "Low Chances Of Covid-19\n"
          ],
          "name": "stdout"
        }
      ]
    }
  ]
}